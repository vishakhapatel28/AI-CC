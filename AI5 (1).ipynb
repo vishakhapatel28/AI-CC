{
 "cells": [
  {
   "cell_type": "code",
   "execution_count": 1,
   "id": "abfd57fb-06b3-40d7-81d2-fcd8b906f79c",
   "metadata": {},
   "outputs": [
    {
     "name": "stdout",
     "output_type": "stream",
     "text": [
      "Original array: [95, 10, 85, 90, 48, 50, 1]\n",
      "Step 1: [1, 10, 85, 90, 48, 50, 95]\n",
      "Step 2: [1, 10, 85, 90, 48, 50, 95]\n",
      "Step 3: [1, 10, 48, 90, 85, 50, 95]\n",
      "Step 4: [1, 10, 48, 50, 85, 90, 95]\n",
      "Step 5: [1, 10, 48, 50, 85, 90, 95]\n",
      "Step 6: [1, 10, 48, 50, 85, 90, 95]\n",
      "Step 7: [1, 10, 48, 50, 85, 90, 95]\n",
      "Sorted array: [1, 10, 48, 50, 85, 90, 95]\n"
     ]
    }
   ],
   "source": [
    "# AI5\n",
    "def selection_sort(arr):\n",
    "    n = len(arr)\n",
    "    for i in range(n):\n",
    "        min_index = i\n",
    "        for j in range(i+1, n):\n",
    "            if arr[j] < arr[min_index]:\n",
    "                min_index = j\n",
    "        arr[i], arr[min_index] = arr[min_index], arr[i]\n",
    "        print(f\"Step {i+1}: {arr}\")  # Print the array after each swap\n",
    "    return arr\n",
    "arr = [95,10,85,90,48,50,1]\n",
    "print(\"Original array:\", arr)\n",
    "sorted_arr = selection_sort(arr)\n",
    "print(\"Sorted array:\", sorted_arr)\n",
    "\n"
   ]
  },
  {
   "cell_type": "code",
   "execution_count": null,
   "id": "b0d4f15e-8c6a-40a2-99b0-3e77ff60d7ce",
   "metadata": {},
   "outputs": [],
   "source": []
  }
 ],
 "metadata": {
  "kernelspec": {
   "display_name": "Python 3 (ipykernel)",
   "language": "python",
   "name": "python3"
  },
  "language_info": {
   "codemirror_mode": {
    "name": "ipython",
    "version": 3
   },
   "file_extension": ".py",
   "mimetype": "text/x-python",
   "name": "python",
   "nbconvert_exporter": "python",
   "pygments_lexer": "ipython3",
   "version": "3.12.7"
  }
 },
 "nbformat": 4,
 "nbformat_minor": 5
}
