{
 "cells": [
  {
   "cell_type": "code",
   "execution_count": 1,
   "id": "65f78f91-29d2-4e26-b235-c124cdf567d3",
   "metadata": {},
   "outputs": [
    {
     "name": "stdout",
     "output_type": "stream",
     "text": [
      "Depth First Search (starting from vertex 0):\n",
      "0 1 3 2 5 \n",
      "Breadth First Search (starting from vertex 0):\n",
      "0 1 2 3 5 "
     ]
    }
   ],
   "source": [
    "# AI 1 \n",
    "from collections import defaultdict, deque\n",
    "\n",
    "class Graph:\n",
    "    def __init__(self):\n",
    "        self.graph = defaultdict(list)\n",
    "\n",
    "    def add_edge(self, u, v):\n",
    "        self.graph[u].append(v)\n",
    "        self.graph[v].append(u)  \n",
    "\n",
    "    def dfs_recursive(self, vertex, visited=None):\n",
    "        if visited is None:\n",
    "            visited = set()\n",
    "        visited.add(vertex)\n",
    "        print(vertex, end=' ')\n",
    "        for neighbor in self.graph[vertex]:\n",
    "            if neighbor not in visited:\n",
    "                self.dfs_recursive(neighbor, visited)\n",
    "\n",
    "    def bfs(self, start):\n",
    "        visited = set()  \n",
    "        queue = deque([start])  \n",
    "        visited.add(start)\n",
    "\n",
    "        while queue:\n",
    "            vertex = queue.popleft()  \n",
    "            print(vertex, end=' ')\n",
    "\n",
    "            for neighbor in self.graph[vertex]:\n",
    "                if neighbor not in visited:\n",
    "                    queue.append(neighbor)\n",
    "                    visited.add(neighbor)\n",
    "\n",
    "g = Graph()\n",
    "g.add_edge(0, 1)\n",
    "g.add_edge(0, 2)\n",
    "g.add_edge(1, 3)\n",
    "g.add_edge(2, 3)\n",
    "g.add_edge(3, 5)\n",
    "\n",
    "print(\"Depth First Search (starting from vertex 0):\")\n",
    "g.dfs_recursive(0)\t\n",
    "\n",
    "print(\"\\nBreadth First Search (starting from vertex 0):\")\n",
    "g.bfs(0)\n",
    "\n"
   ]
  },
  {
   "cell_type": "code",
   "execution_count": null,
   "id": "fc862c16-e4ac-4389-8479-b927c58ff556",
   "metadata": {},
   "outputs": [],
   "source": []
  }
 ],
 "metadata": {
  "kernelspec": {
   "display_name": "Python 3 (ipykernel)",
   "language": "python",
   "name": "python3"
  },
  "language_info": {
   "codemirror_mode": {
    "name": "ipython",
    "version": 3
   },
   "file_extension": ".py",
   "mimetype": "text/x-python",
   "name": "python",
   "nbconvert_exporter": "python",
   "pygments_lexer": "ipython3",
   "version": "3.12.7"
  }
 },
 "nbformat": 4,
 "nbformat_minor": 5
}
