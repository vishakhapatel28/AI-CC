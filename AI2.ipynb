{
 "cells": [
  {
   "cell_type": "code",
   "execution_count": 9,
   "id": "44368f9c-0abc-46ff-9b01-680f4c94c565",
   "metadata": {},
   "outputs": [
    {
     "name": "stdout",
     "output_type": "stream",
     "text": [
      "Path from start to goal: [(1, 0), (2, 0), (2, 1), (2, 2), (3, 2), (3, 3), (3, 4)]\n"
     ]
    }
   ],
   "source": [
    "# AI2\n",
    "import heapq\n",
    "class AStar:\n",
    "    def __init__(self, grid, start, goal):\n",
    "        self.grid = grid  # 2D grid where 0 = walkable, 1 = blocked\n",
    "        self.start = start  # Start position (x, y)\n",
    "        self.goal = goal  # Goal position (x, y)\n",
    "        self.rows = len(grid)\n",
    "        self.cols = len(grid[0])\n",
    "\n",
    "    def heuristic(self, node):\n",
    "        return abs(node[0] - self.goal[0]) + abs(node[1] - self.goal[1])\n",
    "\n",
    "    def neighbors(self, node):\n",
    "        dirs = [(0, 1), (1, 0), (0, -1), (-1, 0)]  # Directions: right, down, left, up\n",
    "        result = []\n",
    "        for d in dirs:\n",
    "            neighbor = (node[0] + d[0], node[1] + d[1])\n",
    "            if 0 <= neighbor[0] < self.rows and 0 <= neighbor[1] < self.cols and self.grid[neighbor[0]][neighbor[1]] == 0:\n",
    "                result.append(neighbor)\n",
    "        return result\n",
    "\n",
    "    def a_star_search(self):\n",
    "        open_list = []\n",
    "        heapq.heappush(open_list, (0, self.start))\n",
    "\n",
    "        came_from = {} \n",
    "        g_score = {self.start: 0} \n",
    "        f_score = {self.start: self.heuristic(self.start)}  \n",
    "\n",
    "        while open_list:\n",
    "            current = heapq.heappop(open_list)[1]\n",
    "\n",
    "            if current == self.goal:\n",
    "                return self.reconstruct_path(came_from, current)\n",
    "\n",
    "            for neighbor in self.neighbors(current):\n",
    "                tentative_g_score = g_score[current] + 1  \n",
    "\n",
    "                if neighbor not in g_score or tentative_g_score < g_score[neighbor]:\n",
    "\n",
    "                    came_from[neighbor] = current\n",
    "                    g_score[neighbor] = tentative_g_score\n",
    "                    f_score[neighbor] = tentative_g_score + self.heuristic(neighbor)\n",
    "                    heapq.heappush(open_list, (f_score[neighbor], neighbor))\n",
    "\n",
    "        return []  \n",
    "\n",
    "    def reconstruct_path(self, came_from, current):\n",
    "        total_path = [current]\n",
    "        while current in came_from:\n",
    "            current = came_from[current]\n",
    "            total_path.append(current)\n",
    "        return total_path[::-1]  \n",
    "grid = [\n",
    "    [0, 1, 0, 0, 0],\n",
    "    [0, 1, 0, 1, 0],\n",
    "    [0, 0, 0, 1, 0],\n",
    "    [1, 1, 0, 0, 0],\n",
    "    [0, 0, 0, 1, 0]\n",
    "]\n",
    "\n",
    "start = (1, 0) \n",
    "goal = (3, 4) \n",
    "\n",
    "a_star = AStar(grid, start, goal)\n",
    "path = a_star.a_star_search()\n",
    "\n",
    "print(\"Path from start to goal:\", path)\n"
   ]
  },
  {
   "cell_type": "code",
   "execution_count": null,
   "id": "5eebd5ce-dece-45cb-a7b4-2719a566d710",
   "metadata": {},
   "outputs": [],
   "source": []
  }
 ],
 "metadata": {
  "kernelspec": {
   "display_name": "Python 3 (ipykernel)",
   "language": "python",
   "name": "python3"
  },
  "language_info": {
   "codemirror_mode": {
    "name": "ipython",
    "version": 3
   },
   "file_extension": ".py",
   "mimetype": "text/x-python",
   "name": "python",
   "nbconvert_exporter": "python",
   "pygments_lexer": "ipython3",
   "version": "3.12.7"
  }
 },
 "nbformat": 4,
 "nbformat_minor": 5
}
